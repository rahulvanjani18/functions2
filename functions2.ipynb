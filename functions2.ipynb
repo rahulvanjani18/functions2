{
  "nbformat": 4,
  "nbformat_minor": 0,
  "metadata": {
    "colab": {
      "provenance": []
    },
    "kernelspec": {
      "name": "python3",
      "display_name": "Python 3"
    },
    "language_info": {
      "name": "python"
    }
  },
  "cells": [
    {
      "cell_type": "markdown",
      "source": [],
      "metadata": {
        "id": "2GvFKEVljV9c"
      }
    },
    {
      "cell_type": "markdown",
      "source": [
        "1. What is the difference between a function and a method in Python?\n",
        "\n",
        ">A function is a block of reusable code that performs a specific task and is defined using the def keyword. It can be called independently.\n",
        "  A method is a function that is associated with an object. It operates on the data within that object and is called using dot notation.\n",
        "  In short, functions are standalone, while methods are tied to objects like strings or lists.\n",
        "\n",
        "  ---\n",
        "\n",
        "2. Explain the concept of function arguments and parameters in Python.\n",
        "\n",
        ">In Python, parameters are the variables listed in a function's definition, while arguments are the actual values passed to the function when it is called.\n",
        "Parameters act as placeholders, and arguments provide the real data. Python functions can accept different types of arguments, such as positional, keyword, default, and variable-length arguments.\n",
        "\n",
        "---\n",
        "\n",
        "3. What are the different ways to define and call a function in Python?\n",
        "\n",
        "> Functions in Python can be defined using the def keyword. They can be called using:\n",
        "\n",
        "* Positional arguments\n",
        "* Keyword arguments\n",
        "* Default arguments\n",
        "* Variable-length arguments (args, kwargs)\n",
        "\n",
        "Python also allows the use of lambda functions, which are anonymous functions defined in a single line.\n",
        "\n",
        "---\n",
        "\n",
        "4. What is the purpose of the return statement in a Python function?\n",
        "\n",
        ">The return statement ends the function execution and optionally sends a value back to the caller.\n",
        "It is used to return the result of a computation or expression from within a function. If no return statement is used, the function returns None by default.\n",
        "\n",
        "---\n",
        "\n",
        "5. What are iterators in Python and how do they differ from iterables?\n",
        "\n",
        ">An iterable is an object that can be looped over, such as lists or strings.\n",
        "An iterator is an object that keeps state and produces the next value when you call next on it.\n",
        "\n",
        "---\n",
        "\n",
        "6. Explain the concept of generators in Python and how they are defined.\n",
        "\n",
        ">Generators are a type of iterator that generate values on the fly and do not store them in memory.\n",
        "They are defined like regular functions but use the yield keyword instead of return.\n",
        "Each time yield is called, the function pauses and resumes from that point on the next call, allowing for efficient data streaming.\n",
        "\n",
        "---\n",
        "\n",
        "7. What are the advantages of using generators over regular functions?\n",
        "\n",
        ">Generators are memory-efficient because they produce values one at a time, rather than storing all results in memory.\n",
        "They allow for lazy evaluation, faster startup time, and are ideal for working with large or infinite data streams.\n",
        "Generators also simplify the code needed for creating iterators.\n",
        "\n",
        "---\n",
        "\n",
        "8. What is a lambda function in Python and when is it typically used?\n",
        "\n",
        ">A lambda function is a small, anonymous function defined using the lambda keyword.\n",
        "It is used when a short, one-time function is required, especially in scenarios like sorting, mapping, or filtering.\n",
        "Lambda functions are commonly used as arguments to higher-order functions where defining a full function would be unnecessary.\n",
        "\n",
        "---\n",
        "\n",
        "9. Explain the purpose and usage of the `map()` function in Python.\n",
        "\n",
        ">The map() function applies a given function to all items in an iterable and returns a map object containing the results.\n",
        "It is typically used to transform or process elements without writing an explicit loop, leading to more concise and readable code.\n",
        "\n",
        "---\n",
        "\n",
        "10. What is the difference between `map()`, `reduce()`, and `filter()` functions in Python?\n",
        "\n",
        ">map transforms each element in an iterable using a function.\n",
        " filter selects elements from an iterable based on a condition.\n",
        "reduce repeatedly applies a function to elements in an iterable to reduce it to a single value.\n",
        "  All three are part of functional programming and are useful for processing sequences efficiently.\n",
        "\n",
        "---\n"
      ],
      "metadata": {
        "id": "K8GAs8qDjMz1"
      }
    },
    {
      "cell_type": "code",
      "source": [
        "'''\n",
        "1. Write a Python function that takes a list of numbers as input and returns the sum of all even numbers in\n",
        "the list.\n",
        "'''\n",
        "def numlist():\n",
        "  sum = 0\n",
        "  a = list(map(int,input('enter your numbers ').split()))\n",
        "  for i in a:\n",
        "    if i % 2 == 0:\n",
        "      sum += i\n",
        "  return sum\n",
        "result = numlist()\n",
        "print(result)"
      ],
      "metadata": {
        "colab": {
          "base_uri": "https://localhost:8080/"
        },
        "id": "lL8dWZlDxEC3",
        "outputId": "b26d0b30-7e27-4c7b-e6b8-8144fe2e125a"
      },
      "execution_count": 7,
      "outputs": [
        {
          "output_type": "stream",
          "name": "stdout",
          "text": [
            "enter your numbers 4 8 9\n",
            "12\n"
          ]
        }
      ]
    },
    {
      "cell_type": "code",
      "source": [
        "'''\n",
        "2. Create a Python function that accepts a string and returns the reverse of that string.\n",
        "'''\n",
        "def reverse_word():\n",
        "  a = input('enter your word ')\n",
        "  return a[::-1]\n",
        "result = reverse_word()\n",
        "print(result)"
      ],
      "metadata": {
        "colab": {
          "base_uri": "https://localhost:8080/"
        },
        "id": "yOtZXAB53BtX",
        "outputId": "d053f2a2-169e-4952-f7df-a6facb668e9c"
      },
      "execution_count": 16,
      "outputs": [
        {
          "output_type": "stream",
          "name": "stdout",
          "text": [
            "enter your word wecer\n",
            "recew\n"
          ]
        }
      ]
    },
    {
      "cell_type": "code",
      "source": [
        "'''\n",
        "3. Implement a Python function that takes a list of integers and returns a new list containing the squares of\n",
        "each number\n",
        "'''\n",
        "def square():\n",
        "  a = list(map(int,input('enter your numbers ').split()))\n",
        "  return [i**2 for i in a]\n",
        "result = square()\n",
        "print(result)"
      ],
      "metadata": {
        "colab": {
          "base_uri": "https://localhost:8080/"
        },
        "id": "UD4WB3UkxbKB",
        "outputId": "0437098e-6ff0-434d-bbf1-88f031ee7ce8"
      },
      "execution_count": 18,
      "outputs": [
        {
          "output_type": "stream",
          "name": "stdout",
          "text": [
            "enter your numbers 2 4 5\n",
            "<generator object square.<locals>.<genexpr> at 0x7944643a5630>\n"
          ]
        }
      ]
    },
    {
      "cell_type": "code",
      "source": [
        "'''\n",
        "4.Write a Python function that checks if a given number is prime or not from 1 to 200\n",
        "'''\n",
        "\n",
        "def is_prime():\n",
        "  num = int(input(\"Enter a number between 1 and 200: \"))\n",
        "\n",
        "  if num < 2 or num > 200:\n",
        "        return \"Number is out of range (1–200).\"\n",
        "\n",
        "  for i in range(2, int(num ** 0.5) + 1):\n",
        "        if num % i == 0:\n",
        "            return f\"{num} is not a prime number.\"\n",
        "\n",
        "  return f\"{num} is a prime number.\"\n",
        "print(is_prime())"
      ],
      "metadata": {
        "colab": {
          "base_uri": "https://localhost:8080/"
        },
        "id": "YrRc3gsKyrET",
        "outputId": "d7f9c4e3-e35d-46c7-eeb1-66a7999266f6"
      },
      "execution_count": 24,
      "outputs": [
        {
          "output_type": "stream",
          "name": "stdout",
          "text": [
            "Enter a number between 1 and 200: 60\n",
            "60 is not a prime number.\n"
          ]
        }
      ]
    },
    {
      "cell_type": "code",
      "source": [
        "'''\n",
        "5.5. Create an iterator class in Python that generates the Fibonacci sequence up to a specified number of\n",
        "terms.\n",
        "'''\n",
        "class Fibonacci:\n",
        "    def __init__(self, n):\n",
        "        self.n = n\n",
        "        self.i = 0\n",
        "        self.a = 0\n",
        "        self.b = 1\n",
        "\n",
        "    def __iter__(self):\n",
        "        return self\n",
        "\n",
        "    def __next__(self):\n",
        "        if self.i >= self.n:\n",
        "            raise StopIteration\n",
        "        result = self.a\n",
        "        self.a, self.b = self.b, self.a + self.b\n",
        "        self.i += 1\n",
        "        return result\n",
        "n = int(input(\"Enter how many terms: \"))\n",
        "for num in Fibonacci(n):\n",
        "    print(num, end=\" \")"
      ],
      "metadata": {
        "colab": {
          "base_uri": "https://localhost:8080/"
        },
        "id": "uv1iOht4zhyv",
        "outputId": "9fb0b83b-b9d4-45b4-fdb1-4f8e7a9e49bb"
      },
      "execution_count": 1,
      "outputs": [
        {
          "output_type": "stream",
          "name": "stdout",
          "text": [
            "Enter how many terms: 5\n",
            "0 1 1 2 3 "
          ]
        }
      ]
    },
    {
      "cell_type": "code",
      "source": [
        "'''\n",
        "6. Write a generator function in Python that yields the powers of 2 up to a given exponent.\n",
        "'''\n",
        "def powers_of_two(limit):\n",
        "    for i in range(limit + 1):\n",
        "        yield 2 ** i\n",
        "\n",
        "# Example usage\n",
        "n = int(input(\"Enter the maximum exponent: \"))\n",
        "for power in powers_of_two(n):\n",
        "    print(power, end=\" \")\n"
      ],
      "metadata": {
        "colab": {
          "base_uri": "https://localhost:8080/"
        },
        "id": "01UiIdyqC-_j",
        "outputId": "2d99f0df-e891-4b5f-9869-b3121c096fe8"
      },
      "execution_count": 6,
      "outputs": [
        {
          "output_type": "stream",
          "name": "stdout",
          "text": [
            "Enter the maximum exponent: 3\n",
            "1 2 4 8 "
          ]
        }
      ]
    },
    {
      "cell_type": "code",
      "source": [
        "'''\n",
        "7.  Implement a generator function that reads a file line by line and yields each line as a string.\n",
        "'''\n",
        "def read_file_lines(filename):\n",
        "    with open(filename, 'r') as file:\n",
        "        for line in file:\n",
        "            yield line.strip()\n",
        "    for line in read_file_lines('yourfile.txt'):\n",
        "     print(line)"
      ],
      "metadata": {
        "id": "jAvRg8EjEIH3"
      },
      "execution_count": 9,
      "outputs": []
    },
    {
      "cell_type": "code",
      "source": [
        "'''\n",
        "8. Use a lambda function in Python to sort a list of tuples based on the second element of each tuple.\n",
        "'''\n",
        "data = [(1, 3), (4, 1), (2, 2), (5, 0)]\n",
        "\n",
        "sorted_data = sorted(data, key=lambda x: x[1])\n",
        "\n",
        "print(sorted_data)"
      ],
      "metadata": {
        "colab": {
          "base_uri": "https://localhost:8080/"
        },
        "id": "AMjxoaxJFa5p",
        "outputId": "68c2a5e9-230b-4089-ea33-00bf7c932d6d"
      },
      "execution_count": 10,
      "outputs": [
        {
          "output_type": "stream",
          "name": "stdout",
          "text": [
            "[(5, 0), (4, 1), (2, 2), (1, 3)]\n"
          ]
        }
      ]
    },
    {
      "cell_type": "code",
      "source": [
        "'''\n",
        "9. . Write a Python program that uses `map()` to convert a list of temperatures from Celsius to Fahrenheit.\n",
        "'''\n",
        "def c_to_f(celsius):\n",
        "    return (celsius * 9/5) + 32\n",
        "\n",
        "celsius_list = list(map(float, input(\"Enter temperatures in Celsius separated by space: \").split()))\n",
        "\n",
        "fahrenheit_list = list(map(c_to_f, celsius_list))\n",
        "\n",
        "print(\"Temperatures in Fahrenheit:\", fahrenheit_list)"
      ],
      "metadata": {
        "colab": {
          "base_uri": "https://localhost:8080/"
        },
        "id": "ps5Ft7xAF5x9",
        "outputId": "f6094e60-27ae-495c-f00e-8e5828ed1d6a"
      },
      "execution_count": 11,
      "outputs": [
        {
          "output_type": "stream",
          "name": "stdout",
          "text": [
            "Enter temperatures in Celsius separated by space: 50\n",
            "Temperatures in Fahrenheit: [122.0]\n"
          ]
        }
      ]
    },
    {
      "cell_type": "code",
      "source": [
        "'''\n",
        "10.  Create a Python program that uses `filter()` to remove all the vowels from a given string.\n",
        "'''\n",
        "\n",
        "def is_not_vowel(char):\n",
        "    return char.lower() not in 'aeiou'\n",
        "\n",
        "text = input(\"Enter a string: \")\n",
        "\n",
        "no_vowels = ''.join(filter(is_not_vowel, text))\n",
        "\n",
        "print(\"String without vowels:\", no_vowels)"
      ],
      "metadata": {
        "colab": {
          "base_uri": "https://localhost:8080/"
        },
        "id": "HfPWIbhvGPoJ",
        "outputId": "72422266-14c5-47ef-9425-cb998fd29ec6"
      },
      "execution_count": 12,
      "outputs": [
        {
          "output_type": "stream",
          "name": "stdout",
          "text": [
            "Enter a string: e\n",
            "String without vowels: \n"
          ]
        }
      ]
    },
    {
      "cell_type": "code",
      "source": [
        "'''\n",
        "11. Imagine an accounting routine used in a book shop. It works on a list with sublists, which look like this:\n",
        "\n",
        "Write a Python program, which returns a list with 2-tuples. Each tuple consists of the order number and the\n",
        "product of the price per item and the quantity. The product should be increased by 10,- € if the value of the\n",
        "order is smaller than 100,00 €.\n",
        "\n",
        "Write a Python program using lambda and map\n",
        "'''\n",
        "orders = [\n",
        "    [\"34587\", \"Learning Python\", 4, 40.95],\n",
        "    [\"98762\", \"Programming in C\", 5, 50.00],\n",
        "    [\"77226\", \"Python Cookbook\", 3, 30.00],\n",
        "    [\"88112\", \"Intro to Algorithms\", 1, 120.00]\n",
        "]\n",
        "\n",
        "final_orders = list(map(\n",
        "    lambda order: (\n",
        "        order[0],\n",
        "        round(order[2] * order[3] + (10 if order[2] * order[3] < 100 else 0), 2)\n",
        "    ),\n",
        "    orders\n",
        "))\n",
        "\n",
        "print(final_orders)"
      ],
      "metadata": {
        "id": "0LoEni6eHEd8"
      },
      "execution_count": null,
      "outputs": []
    }
  ]
}